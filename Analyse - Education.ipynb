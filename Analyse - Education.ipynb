{
 "cells": [
  {
   "cell_type": "markdown",
   "metadata": {},
   "source": [
    "# Education Nationale"
   ]
  },
  {
   "cell_type": "markdown",
   "metadata": {},
   "source": [
    "## Imports"
   ]
  },
  {
   "cell_type": "code",
   "execution_count": 1,
   "metadata": {},
   "outputs": [],
   "source": [
    "import matplotlib.pyplot as plt\n",
    "import pandas as pd\n",
    "import numpy as np"
   ]
  },
  {
   "cell_type": "markdown",
   "metadata": {},
   "source": [
    "## Imports des datasets"
   ]
  },
  {
   "cell_type": "code",
   "execution_count": 2,
   "metadata": {},
   "outputs": [
    {
     "data": {
      "text/html": [
       "<div>\n",
       "<style scoped>\n",
       "    .dataframe tbody tr th:only-of-type {\n",
       "        vertical-align: middle;\n",
       "    }\n",
       "\n",
       "    .dataframe tbody tr th {\n",
       "        vertical-align: top;\n",
       "    }\n",
       "\n",
       "    .dataframe thead th {\n",
       "        text-align: right;\n",
       "    }\n",
       "</style>\n",
       "<table border=\"1\" class=\"dataframe\">\n",
       "  <thead>\n",
       "    <tr style=\"text-align: right;\">\n",
       "      <th></th>\n",
       "      <th>rentree_scolaire</th>\n",
       "      <th>academie</th>\n",
       "      <th>code_du_departement</th>\n",
       "      <th>departement</th>\n",
       "      <th>uai</th>\n",
       "      <th>nom_de_l_etablissment</th>\n",
       "      <th>code_insee_de_la_commune</th>\n",
       "      <th>nom_de_la_commune</th>\n",
       "      <th>secteur</th>\n",
       "      <th>ips</th>\n",
       "    </tr>\n",
       "  </thead>\n",
       "  <tbody>\n",
       "    <tr>\n",
       "      <th>0</th>\n",
       "      <td>2019-2020</td>\n",
       "      <td>RENNES</td>\n",
       "      <td>035</td>\n",
       "      <td>ILLE-ET-VILAINE</td>\n",
       "      <td>0351231Y</td>\n",
       "      <td>ECOLE PRIMAIRE PRIVEE NOTRE DAME DU SACRE COEUR</td>\n",
       "      <td>35060</td>\n",
       "      <td>LA CHAPELLE DU LOU DU LAC</td>\n",
       "      <td>privé sous contrat</td>\n",
       "      <td>98.2</td>\n",
       "    </tr>\n",
       "    <tr>\n",
       "      <th>1</th>\n",
       "      <td>2019-2020</td>\n",
       "      <td>RENNES</td>\n",
       "      <td>035</td>\n",
       "      <td>ILLE-ET-VILAINE</td>\n",
       "      <td>0351254Y</td>\n",
       "      <td>ECOLE PRIMAIRE PRIVEE ST JOSEPH</td>\n",
       "      <td>35080</td>\n",
       "      <td>CINTRE</td>\n",
       "      <td>privé sous contrat</td>\n",
       "      <td>116.8</td>\n",
       "    </tr>\n",
       "    <tr>\n",
       "      <th>2</th>\n",
       "      <td>2019-2020</td>\n",
       "      <td>RENNES</td>\n",
       "      <td>035</td>\n",
       "      <td>ILLE-ET-VILAINE</td>\n",
       "      <td>0351300Y</td>\n",
       "      <td>ECOLE PRIMAIRE PRIVEE ST ANTOINE</td>\n",
       "      <td>35108</td>\n",
       "      <td>ESSE</td>\n",
       "      <td>privé sous contrat</td>\n",
       "      <td>104.1</td>\n",
       "    </tr>\n",
       "    <tr>\n",
       "      <th>3</th>\n",
       "      <td>2019-2020</td>\n",
       "      <td>RENNES</td>\n",
       "      <td>035</td>\n",
       "      <td>ILLE-ET-VILAINE</td>\n",
       "      <td>0351333J</td>\n",
       "      <td>ECOLE PRIMAIRE PRIVEE STE ANNE</td>\n",
       "      <td>35124</td>\n",
       "      <td>GRAND FOUGERAY</td>\n",
       "      <td>privé sous contrat</td>\n",
       "      <td>107.3</td>\n",
       "    </tr>\n",
       "    <tr>\n",
       "      <th>4</th>\n",
       "      <td>2019-2020</td>\n",
       "      <td>RENNES</td>\n",
       "      <td>035</td>\n",
       "      <td>ILLE-ET-VILAINE</td>\n",
       "      <td>0351360N</td>\n",
       "      <td>ECOLE PRIMAIRE PRIVEE ST JEAN</td>\n",
       "      <td>35266</td>\n",
       "      <td>SAINT ERBLON</td>\n",
       "      <td>privé sous contrat</td>\n",
       "      <td>117.4</td>\n",
       "    </tr>\n",
       "  </tbody>\n",
       "</table>\n",
       "</div>"
      ],
      "text/plain": [
       "  rentree_scolaire academie code_du_departement      departement       uai  \\\n",
       "0        2019-2020   RENNES                 035  ILLE-ET-VILAINE  0351231Y   \n",
       "1        2019-2020   RENNES                 035  ILLE-ET-VILAINE  0351254Y   \n",
       "2        2019-2020   RENNES                 035  ILLE-ET-VILAINE  0351300Y   \n",
       "3        2019-2020   RENNES                 035  ILLE-ET-VILAINE  0351333J   \n",
       "4        2019-2020   RENNES                 035  ILLE-ET-VILAINE  0351360N   \n",
       "\n",
       "                             nom_de_l_etablissment code_insee_de_la_commune  \\\n",
       "0  ECOLE PRIMAIRE PRIVEE NOTRE DAME DU SACRE COEUR                    35060   \n",
       "1                  ECOLE PRIMAIRE PRIVEE ST JOSEPH                    35080   \n",
       "2                 ECOLE PRIMAIRE PRIVEE ST ANTOINE                    35108   \n",
       "3                   ECOLE PRIMAIRE PRIVEE STE ANNE                    35124   \n",
       "4                    ECOLE PRIMAIRE PRIVEE ST JEAN                    35266   \n",
       "\n",
       "           nom_de_la_commune             secteur    ips  \n",
       "0  LA CHAPELLE DU LOU DU LAC  privé sous contrat   98.2  \n",
       "1                     CINTRE  privé sous contrat  116.8  \n",
       "2                       ESSE  privé sous contrat  104.1  \n",
       "3             GRAND FOUGERAY  privé sous contrat  107.3  \n",
       "4               SAINT ERBLON  privé sous contrat  117.4  "
      ]
     },
     "execution_count": 2,
     "metadata": {},
     "output_type": "execute_result"
    }
   ],
   "source": [
    "data_ips_ecoles = pd.read_csv(\"data/fr-en-ips_ecoles_v2.csv\", delimiter=\";\")\n",
    "data_ips_ecoles.head()\n"
   ]
  },
  {
   "cell_type": "code",
   "execution_count": 3,
   "metadata": {},
   "outputs": [
    {
     "data": {
      "text/plain": [
       "<Axes: >"
      ]
     },
     "execution_count": 3,
     "metadata": {},
     "output_type": "execute_result"
    },
    {
     "data": {
      "image/png": "[encoded data removed]",
      "text/plain": [
       "<Figure size 640x480 with 1 Axes>"
      ]
     },
     "metadata": {},
     "output_type": "display_data"
    }
   ],
   "source": [
    "secteurs = data_ips_ecoles.groupby(\"secteur\")\n",
    "secteurs.get_group(\"public\")[\"ips\"].hist()\n",
    "secteurs.get_group(\"privé sous contrat\")[\"ips\"].hist()"
   ]
  },
  {
   "cell_type": "code",
   "execution_count": 10,
   "metadata": {},
   "outputs": [
    {
     "data": {
      "text/plain": [
       "academie\n",
       "MAYOTTE              68.706356\n",
       "GUYANE               72.567206\n",
       "LA REUNION           80.366748\n",
       "GUADELOUPE           86.196056\n",
       "MARTINIQUE           88.157188\n",
       "LILLE                95.782311\n",
       "AMIENS               96.357319\n",
       "REIMS                97.368431\n",
       "NANCY-METZ           99.500974\n",
       "CORSE                99.808992\n",
       "CAEN                100.627498\n",
       "NORMANDIE           100.745860\n",
       "ROUEN               100.848640\n",
       "LIMOGES             100.865614\n",
       "CRETEIL             101.410603\n",
       "MONTPELLIER         101.541627\n",
       "DIJON               101.601746\n",
       "POITIERS            101.626062\n",
       "BESANCON            101.631461\n",
       "ORLEANS-TOURS       102.125978\n",
       "AIX-MARSEILLE       102.497025\n",
       "CLERMONT-FERRAND    102.731066\n",
       "NANTES              103.595925\n",
       "BORDEAUX            104.248840\n",
       "STRASBOURG          104.981340\n",
       "NICE                105.154663\n",
       "RENNES              105.328613\n",
       "TOULOUSE            106.514389\n",
       "LYON                106.617219\n",
       "GRENOBLE            107.897872\n",
       "VERSAILLES          113.948084\n",
       "PARIS               119.132118\n",
       "Name: ips, dtype: float64"
      ]
     },
     "execution_count": 10,
     "metadata": {},
     "output_type": "execute_result"
    }
   ],
   "source": [
    "academies = data_ips_ecoles.groupby(\"academie\")\n",
    "academies[\"ips\"].mean().sort_values()"
   ]
  },
  {
   "cell_type": "code",
   "execution_count": 12,
   "metadata": {},
   "outputs": [
    {
     "data": {
      "text/plain": [
       "<Axes: >"
      ]
     },
     "execution_count": 12,
     "metadata": {},
     "output_type": "execute_result"
    },
    {
     "data": {
      "image/png": "[encoded data removed]",
      "text/plain": [
       "<Figure size 640x480 with 1 Axes>"
      ]
     },
     "metadata": {},
     "output_type": "display_data"
    }
   ],
   "source": [
    "academies.get_group(\"PARIS\")[\"ips\"].hist()\n",
    "academies.get_group(\"MAYOTTE\")[\"ips\"].hist()"
   ]
  },
  {
   "cell_type": "code",
   "execution_count": 16,
   "metadata": {},
   "outputs": [
    {
     "data": {
      "text/plain": [
       "<Axes: >"
      ]
     },
     "execution_count": 16,
     "metadata": {},
     "output_type": "execute_result"
    },
    {
     "data": {
      "image/png": "[encoded data removed]",
      "text/plain": [
       "<Figure size 640x480 with 1 Axes>"
      ]
     },
     "metadata": {},
     "output_type": "display_data"
    }
   ],
   "source": [
    "academie_PARIS_secteurs = academies.get_group(\"PARIS\").groupby(\"secteur\")\n",
    "academie_PARIS_secteurs.get_group(\"public\")[\"ips\"].hist()\n",
    "academie_PARIS_secteurs.get_group(\"privé sous contrat\")[\"ips\"].hist()"
   ]
  }
 ],
 "metadata": {
  "kernelspec": {
   "display_name": "Python 3",
   "language": "python",
   "name": "python3"
  },
  "language_info": {
   "codemirror_mode": {
    "name": "ipython",
    "version": 3
   },
   "file_extension": ".py",
   "mimetype": "text/x-python",
   "name": "python",
   "nbconvert_exporter": "python",
   "pygments_lexer": "ipython3",
   "version": "3.11.4"
  },
  "orig_nbformat": 4,
  "vscode": {
   "interpreter": {
    "hash": "90419bc61907be746546f9415e31b800e6fefadc65b6ac832acd1c5253fac4b1"
   }
  }
 },
 "nbformat": 4,
 "nbformat_minor": 2
}
